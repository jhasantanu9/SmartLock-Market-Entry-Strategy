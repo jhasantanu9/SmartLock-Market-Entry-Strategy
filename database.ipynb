{
 "cells": [
  {
   "cell_type": "code",
   "execution_count": 1,
   "metadata": {},
   "outputs": [
    {
     "name": "stdout",
     "output_type": "stream",
     "text": [
      "Database and table created successfully.\n",
      "Table Info:\n",
      "   cid          name     type  notnull dflt_value  pk\n",
      "0    0            id  INTEGER        0       None   1\n",
      "1    1  product_name     TEXT        1       None   0\n",
      "2    2         brand     TEXT        1       None   0\n",
      "3    3         price     REAL        1       None   0\n",
      "4    4        rating     REAL        0       None   0\n",
      "5    5  rating_count  INTEGER        0       None   0\n",
      "6    6  review_count  INTEGER        0       None   0\n",
      "7    7          rank  INTEGER        0       None   0\n",
      "8    8   product_url     TEXT        1       None   0\n"
     ]
    }
   ],
   "source": [
    "import sqlite3\n",
    "import pandas as pd\n",
    "\n",
    "def create_database():\n",
    "    # Connect to SQLite database (or create it if it doesn't exist)\n",
    "    conn = sqlite3.connect('smart_lock.db')\n",
    "    cursor = conn.cursor()\n",
    "\n",
    "    # Create the table\n",
    "    cursor.execute('''\n",
    "        CREATE TABLE IF NOT EXISTS products (\n",
    "            id INTEGER PRIMARY KEY AUTOINCREMENT,\n",
    "            product_name TEXT NOT NULL,\n",
    "            brand TEXT NOT NULL,\n",
    "            price REAL NOT NULL,\n",
    "            rating REAL,\n",
    "            rating_count INTEGER,\n",
    "            review_count INTEGER,\n",
    "            rank INTEGER,\n",
    "            product_url TEXT NOT NULL\n",
    "        )\n",
    "    ''')\n",
    "\n",
    "    print(\"Database and table created successfully.\")\n",
    "\n",
    "    print('Table Info:')\n",
    "    table_info_df = pd.read_sql_query(\"PRAGMA table_info(products);\", conn)\n",
    "    print(table_info_df)\n",
    "\n",
    "    # Commit changes and close connection\n",
    "    conn.commit()\n",
    "    conn.close()\n",
    "\n",
    "if __name__ == \"__main__\":\n",
    "    create_database()"
   ]
  },
  {
   "cell_type": "code",
   "execution_count": 2,
   "metadata": {},
   "outputs": [
    {
     "name": "stdout",
     "output_type": "stream",
     "text": [
      "Data from product_data.csv uploaded successfully.\n"
     ]
    }
   ],
   "source": [
    "import csv\n",
    "\n",
    "def upload_csv_to_database(csv_file):\n",
    "    # Connect to the SQLite database\n",
    "    conn = sqlite3.connect('smart_lock.db')  # Updated to match your usage\n",
    "    cursor = conn.cursor()\n",
    "\n",
    "    # Open the CSV file\n",
    "    with open(csv_file, 'r') as file:\n",
    "        csv_reader = csv.DictReader(file)\n",
    "\n",
    "        # Insert each row into the database\n",
    "        for row in csv_reader:\n",
    "            cursor.execute('''\n",
    "                INSERT INTO products (product_name, brand, price, rating, rating_count, review_count, rank, product_url)\n",
    "                VALUES (?, ?, ?, ?, ?, ?, ?, ?)\n",
    "            ''', (\n",
    "                row['Product name'],\n",
    "                row['Brand name'],\n",
    "                float(row['Price']),\n",
    "                float(row['Rating']) if row['Rating'] else None,\n",
    "                int(row['Rating count']) if row['Rating count'] else None,\n",
    "                int(row['Review count']) if row['Review count'] else None,\n",
    "                int(row['Rank']) if row['Rank'] else None,\n",
    "                row['URL']\n",
    "            ))\n",
    "\n",
    "    # Commit changes and close the connection\n",
    "    conn.commit()\n",
    "    conn.close()\n",
    "\n",
    "    print(f\"Data from {csv_file} uploaded successfully.\")\n",
    "\n",
    "if __name__ == \"__main__\":\n",
    "    upload_csv_to_database('product_data.csv')  \n"
   ]
  },
  {
   "cell_type": "code",
   "execution_count": 3,
   "metadata": {},
   "outputs": [
    {
     "name": "stdout",
     "output_type": "stream",
     "text": [
      "Data exists in the database. Total number of records: 247\n",
      "Sample data from the database:\n",
      "(1, 'Atomberg SL1 With Fingerprint, PIN, OTP, NFC Card, App, Key Access & 5 Bolts Smart Door Lock', 'Atomberg', 15299.0, 4.7, 47, 19, 1, 'https://www.flipkart.com/atomberg-sl1-fingerprint-pin-otp-nfc-card-app-key-access-5-bolts-smart-door-lock/p/itm51cdcb8b535b2?pid=SLOGTBZ36YXCVHPM&lid=LSTSLOGTBZ36YXCVHPMKFHYJT&marketplace=FLIPKART&q=Smart+Lock&store=igc%2Fu0f&srno=s_1_1&otracker=search&otracker1=search&fm=organic&iid=en_KsDTypa2VTxh7aMP-jVrR3a4IKSa_3IfiDH2r1x6FZ-p-GgNdDv_t1qlNGcJwI6KmLnVNGQuQ6i37ZH0LLL6evUFjCTyOHoHZs-Z5_PS_w0%3D&ppt=None&ppn=None&ssid=u61x2g9lzk0000001733553259779&qH=c64d40479fa2d4ff')\n",
      "(2, 'Atomberg Azhero With Fingerprint, PIN, OTP, NFC, App, Key Access & 2 Bolts Smart Door Lock', 'Atomberg', 10299.0, 4.5, 41, 9, 2, 'https://www.flipkart.com/atomberg-azhero-fingerprint-pin-otp-nfc-app-key-access-2-bolts-smart-door-lock/p/itm31bc94add40c9?pid=SLOHFHHKN22WBXVQ&lid=LSTSLOHFHHKN22WBXVQ8ZZBHD&marketplace=FLIPKART&q=Smart+Lock&store=igc%2Fu0f&srno=s_1_2&otracker=search&otracker1=search&fm=organic&iid=en_KsDTypa2VTxh7aMP-jVrR3a4IKSa_3IfiDH2r1x6FZ_JWU98zjXVxnbm3qLFVhx-zRMs3yxYxCyRln068f2P5fUFjCTyOHoHZs-Z5_PS_w0%3D&ppt=None&ppn=None&ssid=u61x2g9lzk0000001733553259779&qH=c64d40479fa2d4ff')\n",
      "(3, 'azLock Alarm Lock Smart Door Lock', 'azLock', 436.0, 3.8, 58, 5, 3, 'https://www.flipkart.com/azlock-alarm-lock-smart-door/p/itm07494f77b7c1d?pid=SLOFYNFYMHFFY8B4&lid=LSTSLOFYNFYMHFFY8B4AUYE6T&marketplace=FLIPKART&q=Smart+Lock&store=igc%2Fu0f&srno=s_1_3&otracker=search&otracker1=search&fm=organic&iid=7ee39199-d04f-4fb1-8d80-3a063191acdc.SLOFYNFYMHFFY8B4.SEARCH&ppt=None&ppn=None&ssid=u61x2g9lzk0000001733553259779&qH=c64d40479fa2d4ff')\n",
      "(4, 'Yale TYE Black Digital Door Lock with Mechanical Key, Pin Code and Backlit Keyboard Compatible for Home, Office, Hotel | Door Thickness 35-45.5mm Smart Door Lock', 'Yale', 5999.0, 4.6, 5, 0, 4, 'https://www.flipkart.com/yale-tye-black-digital-door-lock-mechanical-key-pin-code-backlit-keyboard-compatible-home-office-hotel-thickness-35-45-5mm-smart/p/itmf67aacde7906e?pid=SLOGW3JS4G2V9EZN&lid=LSTSLOGW3JS4G2V9EZNXDUHLV&marketplace=FLIPKART&q=Smart+Lock&store=igc%2Fu0f&srno=s_1_4&otracker=search&otracker1=search&fm=organic&iid=7ee39199-d04f-4fb1-8d80-3a063191acdc.SLOGW3JS4G2V9EZN.SEARCH&ppt=None&ppn=None&ssid=u61x2g9lzk0000001733553259779&qH=c64d40479fa2d4ff')\n",
      "(5, 'Qubo Essential by HERO GROUP 5-Way Unlocking Fingerprint Pincode Mobile App Smart Door Lock', 'Qubo', 8990.0, 3.9, 33, 5, 5, 'https://www.flipkart.com/qubo-essential-hero-group-5-way-unlocking-fingerprint-pincode-mobile-app-smart-door-lock/p/itm8242e128ff38e?pid=SLOGZ4MNDQPHZTQS&lid=LSTSLOGZ4MNDQPHZTQSPI5GGT&marketplace=FLIPKART&q=Smart+Lock&store=igc%2Fu0f&spotlightTagId=TrendingId_igc%2Fu0f&srno=s_1_5&otracker=search&otracker1=search&fm=organic&iid=7ee39199-d04f-4fb1-8d80-3a063191acdc.SLOGZ4MNDQPHZTQS.SEARCH&ppt=None&ppn=None&ssid=u61x2g9lzk0000001733553259779&qH=c64d40479fa2d4ff')\n"
     ]
    }
   ],
   "source": [
    "def check_data_in_database():\n",
    "    # Connect to the SQLite database\n",
    "    conn = sqlite3.connect('smart_lock.db')\n",
    "    cursor = conn.cursor()\n",
    "\n",
    "    # Query to count the number of records in the table\n",
    "    cursor.execute('SELECT COUNT(*) FROM products')\n",
    "    count = cursor.fetchone()[0]\n",
    "\n",
    "    if count > 0:\n",
    "        print(f\"Data exists in the database. Total number of records: {count}\")\n",
    "    else:\n",
    "        print(\"No data found in the database.\")\n",
    "\n",
    "    # Print some sample data\n",
    "    cursor.execute('SELECT * FROM products LIMIT 5')\n",
    "    rows = cursor.fetchall()\n",
    "    if rows:\n",
    "        print(\"Sample data from the database:\")\n",
    "        for row in rows:\n",
    "            print(row)\n",
    "    else:\n",
    "        print(\"No sample data to display.\")\n",
    "\n",
    "    # Close the connection\n",
    "    conn.close()\n",
    "\n",
    "if __name__ == \"__main__\":\n",
    "    check_data_in_database()"
   ]
  }
 ],
 "metadata": {
  "kernelspec": {
   "display_name": "base",
   "language": "python",
   "name": "python3"
  },
  "language_info": {
   "codemirror_mode": {
    "name": "ipython",
    "version": 3
   },
   "file_extension": ".py",
   "mimetype": "text/x-python",
   "name": "python",
   "nbconvert_exporter": "python",
   "pygments_lexer": "ipython3",
   "version": "3.12.7"
  }
 },
 "nbformat": 4,
 "nbformat_minor": 2
}
